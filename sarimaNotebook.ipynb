{
 "cells": [
  {
   "cell_type": "code",
   "execution_count": null,
   "metadata": {},
   "outputs": [],
   "source": [
    "!pip install statsmodels --upgrade"
   ]
  },
  {
   "cell_type": "code",
   "execution_count": 1,
   "metadata": {},
   "outputs": [
    {
     "name": "stderr",
     "output_type": "stream",
     "text": [
      "/tmp/ipykernel_16887/3121731339.py:2: FutureWarning: The pandas.datetime class is deprecated and will be removed from pandas in a future version. Import from datetime module instead.\n",
      "  from pandas import datetime\n"
     ]
    }
   ],
   "source": [
    "from pandas import read_csv\n",
    "from pandas import datetime\n",
    "from matplotlib import pyplot\n",
    "from datetime import datetime\n",
    "from statsmodels.tsa.arima.model import ARIMA\n",
    "import statsmodels.api as sm\n",
    "#from statsmodels.tsa.statespace.sarimax.SARIMAX import SARIMAX\n",
    "from sklearn.metrics import mean_squared_error\n",
    "from math import sqrt\n",
    "import pandas as pd\n",
    "import os\n",
    "import enum"
   ]
  },
  {
   "cell_type": "code",
   "execution_count": null,
   "metadata": {},
   "outputs": [],
   "source": [
    "!wget -O ukdale_group.zip https://github.com/Vita98/MMSAProject/raw/main/Dataset/ukdale_group.zip\n",
    "!unzip ./ukdale_group.zip\n",
    "!mkdir result"
   ]
  },
  {
   "cell_type": "code",
   "execution_count": null,
   "metadata": {},
   "outputs": [],
   "source": [
    "from google.colab import drive\n",
    "drive.mount('/content/drive')"
   ]
  },
  {
   "cell_type": "code",
   "execution_count": 2,
   "metadata": {},
   "outputs": [],
   "source": [
    "class TrainignTimeType(enum.IntEnum):\n",
    "\tONE_WEEK = 10080\n",
    "\tONE_MONTH = 43200\n",
    "\n",
    "class TestingTimeType(enum.IntEnum):\n",
    "\tONE_DAY = 1440"
   ]
  },
  {
   "cell_type": "code",
   "execution_count": 7,
   "metadata": {},
   "outputs": [],
   "source": [
    "'''\n",
    "\tPUT HERE THE CONFIGURATION VALUES\n",
    "\t\t\t\t\t\t\t\t\t\t'''\n",
    "trainSize = TrainignTimeType.ONE_MONTH\n",
    "testSize = TestingTimeType.ONE_DAY\n",
    "\n",
    "originFileName = \"ukdale_def4.csv\"\n",
    "seriesName = \"Tv_Dvd_Lamp\"\n"
   ]
  },
  {
   "cell_type": "code",
   "execution_count": 4,
   "metadata": {},
   "outputs": [],
   "source": [
    "#Save the time series given as parameter \n",
    "def save_series_to_csv(series, fileName):\n",
    "\tpath = \"result/\" + originFileName[:-4]\n",
    "\n",
    "\tif not os.path.isdir(path):\n",
    "\t\ttry:\n",
    "\t\t\tos.mkdir(path)\n",
    "\t\texcept OSError:\n",
    "\t\t\tprint(\"Creation of the directory %s failed\" % path)\n",
    "\n",
    "\tpath = \"result/\" + originFileName[:-4] + \"/\" + seriesName\n",
    "\n",
    "\tif not os.path.isdir(path):\n",
    "\t\ttry:\n",
    "\t\t\tos.mkdir(path)\n",
    "\t\texcept OSError:\n",
    "\t\t\tprint(\"Creation of the directory %s failed\" % path)\n",
    "\n",
    "\tday = trainSize / 1440\n",
    "\tfile = open(path + \"/\" + str(int(day)) + \"days_\" + fileName, \"w\")\n",
    "\tfile.write(series.to_csv(header=False))\n",
    "\tfile.close()\n",
    "\n",
    "\n",
    "#Save the plot from pyplot\n",
    "def save_plot():\n",
    "\tpath = \"result/\" + originFileName[:-4]\n",
    "\n",
    "\tif not os.path.isdir(path):\n",
    "\t\ttry:\n",
    "\t\t\tos.mkdir(path)\n",
    "\t\texcept OSError:\n",
    "\t\t\tprint(\"Creation of the directory %s failed\" % path)\n",
    "\n",
    "\tpath = \"result/\" + originFileName[:-4] + \"/\" + seriesName\n",
    "\tif not os.path.isdir(path):\n",
    "\t\ttry:\n",
    "\t\t\tos.mkdir(path)\n",
    "\t\texcept OSError:\n",
    "\t\t\tprint(\"Creation of the directory %s failed\" % path)\n",
    "\n",
    "\tday = trainSize / 1440\n",
    "\tfinalPath = path + \"/\" + str(int(day)) + \"days_plot.png\"\n",
    "\tpyplot.savefig(finalPath, dpi=100)\n",
    "\n",
    "#Parser for the read_csv\n",
    "def parser(x):\n",
    "\treturn datetime.strptime(x, '%y-%m-%d %H:%M:%S')"
   ]
  },
  {
   "cell_type": "code",
   "execution_count": 8,
   "metadata": {},
   "outputs": [
    {
     "name": "stdout",
     "output_type": "stream",
     "text": [
      "Time\n",
      "2013-03-09 14:40:00    12.88\n",
      "2013-03-09 14:41:00    12.90\n",
      "2013-03-09 14:42:00    12.70\n",
      "2013-03-09 14:43:00    12.50\n",
      "2013-03-09 14:44:00    12.80\n",
      "Name: Tv_Dvd_Lamp, dtype: float64\n",
      "\n",
      "Training the model...\n",
      "\n"
     ]
    },
    {
     "name": "stderr",
     "output_type": "stream",
     "text": [
      "/home/ali/.local/lib/python3.9/site-packages/statsmodels/tsa/base/tsa_model.py:536: ValueWarning: No frequency information was provided, so inferred frequency T will be used.\n",
      "  warnings.warn('No frequency information was'\n",
      "/home/ali/.local/lib/python3.9/site-packages/statsmodels/tsa/base/tsa_model.py:536: ValueWarning: No frequency information was provided, so inferred frequency T will be used.\n",
      "  warnings.warn('No frequency information was'\n"
     ]
    },
    {
     "name": "stdout",
     "output_type": "stream",
     "text": [
      "Testing...\n",
      "\n",
      "All done!\n",
      "\n"
     ]
    }
   ],
   "source": [
    "#main function\n",
    "numbersOfRowToRead = int(trainSize) + int(testSize)\n",
    "\n",
    "#Reading the series from the dataset file\n",
    "series = read_csv(\"Dataset/\" + originFileName,header=0,index_col=0,nrows=numbersOfRowToRead)\n",
    "print(series[seriesName].head())\n",
    "\n",
    "#Splitting the dataset into training and testing \n",
    "X = series[seriesName]\n",
    "train, test = X[0:trainSize], X[trainSize:trainSize+testSize]\n",
    "history = [x for x in train]\n",
    "predictions = list()\n",
    "\n",
    "#Creating the ARIMA model\n",
    "#Creating the ARIMA model\n",
    "#(5,2,1) start_params=[0,0,0,0,0,0,1,5]\n",
    "#(5,1,1) start_params=[0,0,0,0,0,0,1,3]\n",
    "print(\"\\nTraining the model...\\n\")\n",
    "#model = ARIMA(history, order=(5,0,1))\n",
    "#model_fit = model.fit(start_params=[0,0,0,0,0,0,0,1])\n",
    "maxLen = len(test)\n",
    "\n",
    "my_order = (1, 1, 1)\n",
    "my_seasonal_order = (1, 1, 1, 12)\n",
    "# define model\n",
    "\n",
    "model = sm.tsa.statespace.SARIMAX(train, order=my_order, seasonal_order=my_seasonal_order)\n",
    "#model = SARIMAX(train, order=my_order, seasonal_order=my_seasonal_order)\n",
    "\n",
    "model_fit = model.fit()\n",
    "\n",
    "print(\"Testing...\")\n",
    "# walk-forward validation\n",
    "\"\"\"\n",
    "for t in range(len(test)):\n",
    "\n",
    "    perc = (100 / maxLen) * t\n",
    "    print(\"\\rPerc: %.2f\" %perc, end=\"\")\n",
    "    #print (\"\\033[A                             \\033[A\")\n",
    "\n",
    "    output = model_fit.forecast()\n",
    "    yhat = output[0]\n",
    "    predictions.append(yhat)\n",
    "    obs = test[t]\n",
    "    history.append(obs)\n",
    "\n",
    "    model_fit = model_fit.append([test[t]])\n",
    "    #print('predicted=%f, expected=%f' % (yhat, obs))\n",
    "\n",
    "predictions = model_fit.predict(start=0, end=len(test))\n",
    "#print(yhat)\n",
    "#add time index to predictions\n",
    "#fc_series = pd.Series(predictions,index=test.index)\n",
    "\n",
    "# evaluate forecasts\n",
    "#rmse = sqrt(mean_squared_error(test, predictions))\n",
    "#print('Test RMSE: %.3f' % rmse)\n",
    "\n",
    "# plot forecasts against actual outcomes\n",
    "pyplot.figure(figsize=(12,5), dpi=100)\n",
    "pyplot.plot(train, color='blue')\n",
    "pyplot.plot(test, color='blue')\n",
    "pyplot.plot(predictions, color='red')\n",
    "day = trainSize / 1440\n",
    "pyplot.title(seriesName + \" \" + str(int(day)) + \" days trained\")\n",
    "ax = pyplot.gca()\n",
    "ax.axes.xaxis.set_visible(False)\n",
    "\"\"\"\n",
    "#saving date\n",
    "#save_series_to_csv(train, \"train.csv\")\n",
    "#save_series_to_csv(test, \"test.csv\")\n",
    "#save_series_to_csv(fc_series, \"predictions.csv\")\n",
    "#save_plot()\n",
    "#pyplot.show()\n",
    "\n",
    "print(\"\\nAll done!\\n\")"
   ]
  },
  {
   "cell_type": "code",
   "execution_count": 9,
   "metadata": {},
   "outputs": [
    {
     "data": {
      "image/png": "[encoded data removed]",
      "text/plain": "<Figure size 432x288 with 1 Axes>"
     },
     "metadata": {
      "needs_background": "light"
     },
     "output_type": "display_data"
    }
   ],
   "source": [
    "yhat = model_fit.predict(start=0, end=len(test))\n",
    "#print(yhat)\n",
    "predictions = list()\n",
    "\n",
    "for value in yhat[1:]:\n",
    "    predictions.append(value)\n",
    "\n",
    "#print(predictions)\n",
    "\n",
    "fc_series = pd.Series(predictions,index=test.index)\n",
    "pyplot.plot(train, color='blue')\n",
    "pyplot.plot(test, color='blue')\n",
    "pyplot.plot(fc_series, color='red')\n",
    "day = trainSize / 1440\n",
    "pyplot.title(seriesName + \" \" + str(int(day)) + \" days trained\")\n",
    "ax = pyplot.gca()\n",
    "ax.axes.xaxis.set_visible(False)\n"
   ]
  }
 ],
 "metadata": {
  "kernelspec": {
   "display_name": "Python 3.9.7 64-bit",
   "name": "python397jvsc74a57bd0767d51c1340bd893661ea55ea3124f6de3c7a262a8b4abca0554b478b1e2ff90"
  },
  "language_info": {
   "codemirror_mode": {
    "name": "ipython",
    "version": 3
   },
   "file_extension": ".py",
   "mimetype": "text/x-python",
   "name": "python",
   "nbconvert_exporter": "python",
   "pygments_lexer": "ipython3",
   "version": "3.9.7"
  },
  "metadata": {
   "interpreter": {
    "hash": "767d51c1340bd893661ea55ea3124f6de3c7a262a8b4abca0554b478b1e2ff90"
   }
  },
  "orig_nbformat": 3
 },
 "nbformat": 4,
 "nbformat_minor": 2
}